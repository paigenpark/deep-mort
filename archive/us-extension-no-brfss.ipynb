{
 "cells": [
  {
   "cell_type": "code",
   "execution_count": 1,
   "metadata": {},
   "outputs": [],
   "source": [
    "import tensorflow as tf\n",
    "import zipfile\n",
    "tfkl = tf.keras.layers\n",
    "import csv\n",
    "import numpy as np\n",
    "import pandas as pd\n",
    "import os as os\n",
    "import matplotlib.pyplot as plt\n",
    "#from keras.layers import Input, Embedding, Flatten, Dense, BatchNormalization, Dropout, concatenate\n",
    "#from keras.models import Model\n",
    "from sklearn.preprocessing import StandardScaler\n",
    "from sklearn.preprocessing import LabelEncoder\n",
    "from sklearn.linear_model import LinearRegression"
   ]
  },
  {
   "cell_type": "markdown",
   "metadata": {},
   "source": [
    "# Load in Data"
   ]
  },
  {
   "cell_type": "code",
   "execution_count": 2,
   "metadata": {},
   "outputs": [
    {
     "name": "stdout",
     "output_type": "stream",
     "text": [
      "['PopName', 'Sex', 'Year', 'Age', 'mx']\n"
     ]
    }
   ],
   "source": [
    "# loading in USMDB data\n",
    "data = []\n",
    "ages = []\n",
    "states = []\n",
    "genders = []\n",
    "\n",
    "with open(\"../data/usmdb/usmdb.csv\", \"r\") as file:\n",
    "    reader = csv.reader(file,delimiter=',')\n",
    "    for row_index, row in enumerate(reader):\n",
    "        if row_index == 0:\n",
    "            print(row)\n",
    "        if row_index >= 1:\n",
    "            state, gender, year, age, rate = row\n",
    "            year = int(year)\n",
    "            try:\n",
    "                age = int(age)\n",
    "            except:\n",
    "                age = -1\n",
    "            if state not in states:\n",
    "                states.append(state)\n",
    "            state = states.index(state)\n",
    "            if gender not in genders:\n",
    "                genders.append(gender)\n",
    "            gender = genders.index(gender)\n",
    "            try:\n",
    "                rate = float(rate)\n",
    "            except:\n",
    "                rate = -1\n",
    "            if rate > 1:\n",
    "                rate = 1\n",
    "            # get rid of years, ages, not in health data and other cleaning\n",
    "            if age != -1 and rate != -1 and age <= 99:\n",
    "                data.append([state, gender, year, age, rate])\n",
    "\n",
    "data = np.array(data)"
   ]
  },
  {
   "cell_type": "code",
   "execution_count": 3,
   "metadata": {},
   "outputs": [
    {
     "name": "stdout",
     "output_type": "stream",
     "text": [
      "[ 0.  0.  0. ... 49. 49. 49.]\n",
      "[[0.0000e+00 0.0000e+00 1.9590e+03 0.0000e+00 3.0050e-02]\n",
      " [0.0000e+00 0.0000e+00 1.9590e+03 1.0000e+00 1.7500e-03]\n",
      " [0.0000e+00 0.0000e+00 1.9590e+03 2.0000e+00 9.0000e-04]\n",
      " ...\n",
      " [4.9000e+01 1.0000e+00 2.0200e+03 9.7000e+01 3.8917e-01]\n",
      " [4.9000e+01 1.0000e+00 2.0200e+03 9.8000e+01 4.2072e-01]\n",
      " [4.9000e+01 1.0000e+00 2.0200e+03 9.9000e+01 4.5292e-01]]\n",
      "['AK', 'AL', 'AZ', 'AR', 'CA', 'CO', 'CT', 'DE', 'FL', 'GA', 'HI', 'ID', 'IL', 'IN', 'IA', 'KS', 'KY', 'LA', 'ME', 'MD', 'MA', 'MI', 'MN', 'MS', 'MO', 'MT', 'NE', 'NV', 'NH', 'NJ', 'NM', 'NY', 'NC', 'ND', 'OH', 'OK', 'OR', 'PA', 'RI', 'SC', 'SD', 'TN', 'TX', 'UT', 'VT', 'VA', 'WA', 'WV', 'WI', 'WY']\n",
      "['f', 'm']\n"
     ]
    }
   ],
   "source": [
    "print(data[:,0])\n",
    "print(data)\n",
    "print(states)\n",
    "print(genders)"
   ]
  },
  {
   "cell_type": "code",
   "execution_count": 4,
   "metadata": {},
   "outputs": [],
   "source": [
    "# df = pd.read_csv(\"../data/brfss/brfss_agg.csv\", index_col=0)"
   ]
  },
  {
   "cell_type": "markdown",
   "metadata": {},
   "source": [
    "Last minute cleaning. Will put chunk below into cleaning file soon."
   ]
  },
  {
   "cell_type": "code",
   "execution_count": 5,
   "metadata": {},
   "outputs": [],
   "source": [
    "# # removing missing - should add this to cleaning dataset in the future\n",
    "# index_missing = df[ (df['sex'] == '7')].index\n",
    "# df.drop(index_missing, inplace=True)\n",
    "\n",
    "# # Mapping from FIPS code to state abbreviation\n",
    "# fips_to_abbreviation = {\n",
    "#     1: 'AL', 2: 'AK', 4: 'AZ', 5: 'AR', 6: 'CA', 8: 'CO', 9: 'CT', 10: 'DE', 12: 'FL',\n",
    "#     13: 'GA', 15: 'HI', 16: 'ID', 17: 'IL', 18: 'IN', 19: 'IA', 20: 'KS', 21: 'KY',\n",
    "#     22: 'LA', 23: 'ME', 24: 'MD', 25: 'MA', 26: 'MI', 27: 'MN', 28: 'MS', 29: 'MO',\n",
    "#     30: 'MT', 31: 'NE', 32: 'NV', 33: 'NH', 34: 'NJ', 35: 'NM', 36: 'NY', 37: 'NC',\n",
    "#     38: 'ND', 39: 'OH', 40: 'OK', 41: 'OR', 42: 'PA', 44: 'RI', 45: 'SC', 46: 'SD',\n",
    "#     47: 'TN', 48: 'TX', 49: 'UT', 50: 'VT', 51: 'VA', 53: 'WA', 54: 'WV', 55: 'WI',\n",
    "#     56: 'WY'\n",
    "# }\n",
    "\n",
    "# # Convert FIPS codes to state abbreviations\n",
    "# df['state'] = df['state'].map(fips_to_abbreviation)\n",
    "\n",
    "# print(df)\n"
   ]
  },
  {
   "cell_type": "code",
   "execution_count": 6,
   "metadata": {},
   "outputs": [],
   "source": [
    "# df['year'] = pd.to_numeric(df['year'], errors='coerce')\n",
    "# df['state'] = df['state'].astype('category')\n",
    "# df['state'] = df['state'].apply(lambda x: states.index(x))\n",
    "# df['state'] = df['state'].astype('int64')\n",
    "# df['age'] = df['age'].astype('category')\n",
    "# df['sex'] = df['sex'].map({'female': 0, 'male': 1})\n",
    "# print(df.dtypes)\n",
    "\n",
    "# health_data = df.to_numpy()"
   ]
  },
  {
   "cell_type": "markdown",
   "metadata": {},
   "source": [
    "# Train no covariate model"
   ]
  },
  {
   "cell_type": "code",
   "execution_count": 7,
   "metadata": {},
   "outputs": [
    {
     "name": "stdout",
     "output_type": "stream",
     "text": [
      "(470000, 5)\n"
     ]
    }
   ],
   "source": [
    "# training and test sets \n",
    "training_index = np.logical_and(data[:, 2] >= 1959, data[:, 2] <= 2005)\n",
    "training_data = data[training_index, :]\n",
    "print(training_data.shape)\n",
    "\n",
    "test_index = np.logical_and(data[:, 2] > 2005, data[:, 2] <= 2015)\n",
    "test_data = data[test_index, :]\n",
    "\n",
    "final_test_index = np.logical_and(data[:, 2] > 2015, data[:, 2] <= 2019)\n",
    "final_test = data[final_test_index, :]"
   ]
  },
  {
   "cell_type": "code",
   "execution_count": 8,
   "metadata": {},
   "outputs": [
    {
     "name": "stdout",
     "output_type": "stream",
     "text": [
      "[[0.0000e+00 0.0000e+00 2.0060e+03 0.0000e+00 8.3500e-03]\n",
      " [0.0000e+00 0.0000e+00 2.0060e+03 1.0000e+00 2.1000e-04]\n",
      " [0.0000e+00 0.0000e+00 2.0060e+03 2.0000e+00 6.3000e-04]\n",
      " ...\n",
      " [4.9000e+01 1.0000e+00 2.0150e+03 9.7000e+01 3.5439e-01]\n",
      " [4.9000e+01 1.0000e+00 2.0150e+03 9.8000e+01 3.8448e-01]\n",
      " [4.9000e+01 1.0000e+00 2.0150e+03 9.9000e+01 4.1548e-01]]\n"
     ]
    }
   ],
   "source": [
    "print(test_data)"
   ]
  },
  {
   "cell_type": "code",
   "execution_count": 9,
   "metadata": {},
   "outputs": [],
   "source": [
    "training_data = tf.convert_to_tensor(training_data)\n",
    "test_data = tf.convert_to_tensor(test_data)\n",
    "final_test = tf.convert_to_tensor(final_test)\n",
    "# cast tensor to type float32\n",
    "training_data = tf.cast(training_data, tf.float32)\n",
    "test_data = tf.cast(test_data, tf.float32)\n",
    "final_test = tf.cast(final_test, tf.float32)\n",
    "\n",
    "num_train = training_data.shape[0]\n",
    "num_test = test_data.shape[0]\n",
    "num_final = final_test.shape[0]"
   ]
  },
  {
   "cell_type": "code",
   "execution_count": 10,
   "metadata": {},
   "outputs": [
    {
     "name": "stdout",
     "output_type": "stream",
     "text": [
      "tf.Tensor(\n",
      "[[0.0000e+00 0.0000e+00 2.0160e+03 0.0000e+00 4.6000e-03]\n",
      " [0.0000e+00 0.0000e+00 2.0160e+03 1.0000e+00 7.4000e-04]\n",
      " [0.0000e+00 0.0000e+00 2.0160e+03 2.0000e+00 1.9000e-04]\n",
      " ...\n",
      " [4.9000e+01 1.0000e+00 2.0190e+03 9.7000e+01 3.7822e-01]\n",
      " [4.9000e+01 1.0000e+00 2.0190e+03 9.8000e+01 4.1083e-01]\n",
      " [4.9000e+01 1.0000e+00 2.0190e+03 9.9000e+01 4.4425e-01]], shape=(40000, 5), dtype=float32)\n"
     ]
    }
   ],
   "source": [
    "print(final_test)"
   ]
  },
  {
   "cell_type": "code",
   "execution_count": 11,
   "metadata": {},
   "outputs": [],
   "source": [
    "# define function to fetch and process data entries from training or test data \n",
    "def get_data(index, mode):\n",
    "    if mode == \"train\":\n",
    "        # randomly selects index from training data between 0 and num_train\n",
    "        rand_index = tf.random.uniform([],minval=0, maxval=num_train, dtype=tf.int32) \n",
    "        entry = training_data[rand_index, :]\n",
    "    elif mode == \"not_random\":\n",
    "        # selects specified index from test data \n",
    "        entry = test_data[index, :]\n",
    "    else: \n",
    "        # for any other value of mode, randomly selects index from test\n",
    "        rand_index = tf.random.uniform([],minval=0, maxval=num_test, dtype=tf.int32)\n",
    "        entry = test_data[rand_index, :]\n",
    "    state, gender, year, age, rate = entry[0], entry[1], entry[2], entry[3], entry[4]\n",
    "    year = (year - 1998)/21\n",
    "    age = tf.cast(age, tf.int32)\n",
    "    state = tf.cast(state, tf.int32)\n",
    "    gender = tf.cast(gender, tf.int32)\n",
    "    year = tf.reshape(year, [1])\n",
    "    age = tf.reshape(age, [1])\n",
    "    state = tf.reshape(state, [1])\n",
    "    gender = tf.reshape(gender, [1])\n",
    "    rate = tf.reshape(rate, [1])\n",
    "    return (year, age, state, gender), rate"
   ]
  },
  {
   "cell_type": "code",
   "execution_count": 17,
   "metadata": {},
   "outputs": [],
   "source": [
    "# use get_data function to set up training and test tensorflow datasets \n",
    "dataset_train = tf.data.Dataset.from_tensor_slices(np.arange(10000))\n",
    "dataset_train = dataset_train.repeat()\n",
    "dataset_train = dataset_train.map(lambda x: get_data(x, mode=\"train\"), num_parallel_calls=4)\n",
    "dataset_train = dataset_train.batch(256)\n",
    "dataset_train = dataset_train.prefetch(buffer_size=512)\n",
    "\n",
    "dataset_test = tf.data.Dataset.from_tensor_slices(np.arange(10000))\n",
    "dataset_test = dataset_test.repeat()\n",
    "dataset_test = dataset_test.map(lambda x: get_data(x, mode=\"test\"), num_parallel_calls=4)\n",
    "dataset_test = dataset_test.batch(256)\n",
    "dataset_test = dataset_test.prefetch(buffer_size=512)\n",
    "\n",
    "dataset_test2 = tf.data.Dataset.from_tensor_slices(np.arange(100000))\n",
    "dataset_test2 = dataset_test2.map(lambda x: get_data(x, mode=\"not_random\"), num_parallel_calls=4)\n",
    "dataset_test2 = dataset_test2.batch(256)\n",
    "dataset_test2 = dataset_test2.prefetch(buffer_size=512)\n",
    "\n",
    "dataset_final = tf.data.Dataset.from_tensor_slices(np.arange(10000))\n",
    "dataset_final = dataset_final.repeat()\n",
    "dataset_final = dataset_final.map(lambda x: get_data(x, mode=\"test\"), num_parallel_calls=4)\n",
    "dataset_final = dataset_final.batch(256)\n",
    "dataset_final = dataset_final.prefetch(buffer_size=512)"
   ]
  },
  {
   "cell_type": "code",
   "execution_count": 13,
   "metadata": {},
   "outputs": [],
   "source": [
    "# defining inputs \n",
    "year = tfkl.Input(shape=(1,), dtype='float32', name='Year')\n",
    "age =  tfkl.Input(shape=(1,), dtype='int32', name='Age')\n",
    "state = tfkl.Input(shape=(1,), dtype='int32', name='State')\n",
    "gender = tfkl.Input(shape=(1,), dtype='int32', name='Gender')\n",
    "\n",
    "# defining embedding layers \n",
    "age_embed = tfkl.Embedding(input_dim=100, output_dim=5, input_length=1, name='Age_embed')(age)\n",
    "age_embed = tfkl.Flatten()(age_embed)\n",
    "\n",
    "gender_embed = tfkl.Embedding(input_dim=2, output_dim=5, input_length=1, name='Gender_embed')(gender)\n",
    "gender_embed = tfkl.Flatten()(gender_embed)\n",
    "\n",
    "state_embed = tfkl.Embedding(input_dim=50, output_dim=5, input_length=1, name='State_embed')(state)\n",
    "state_embed = tfkl.Flatten()(state_embed)\n",
    "\n",
    "# create feature vector that concatenates all inputs \n",
    "x = tfkl.Concatenate()([year, age_embed, gender_embed, state_embed])\n",
    "x1 = x\n",
    "\n",
    "# setting up middle layers \n",
    "x = tfkl.Dense(128, activation='tanh')(x)\n",
    "x = tfkl.BatchNormalization()(x)\n",
    "x = tfkl.Dropout(0.05)(x)\n",
    "\n",
    "x = tfkl.Dense(128, activation='tanh')(x)\n",
    "x = tfkl.BatchNormalization()(x)\n",
    "x = tfkl.Dropout(0.05)(x)\n",
    "\n",
    "x = tfkl.Dense(128, activation='tanh')(x)\n",
    "x = tfkl.BatchNormalization()(x)\n",
    "x = tfkl.Dropout(0.05)(x)\n",
    "\n",
    "x = tfkl.Dense(128, activation='tanh')(x)\n",
    "x = tfkl.BatchNormalization()(x)\n",
    "x = tfkl.Dropout(0.05)(x)\n",
    "\n",
    "# setting up output layer \n",
    "x = tfkl.Concatenate()([x1, x])\n",
    "x = tfkl.Dense(128, activation='tanh')(x)\n",
    "x = tfkl.BatchNormalization()(x)\n",
    "x = tfkl.Dropout(0.05)(x)\n",
    "x = tfkl.Dense(1, activation='sigmoid', name='final')(x)\n",
    "\n",
    "# creating the model \n",
    "model = tf.keras.Model(inputs=[year, age, state, gender], outputs=[x])"
   ]
  },
  {
   "cell_type": "code",
   "execution_count": 14,
   "metadata": {},
   "outputs": [],
   "source": [
    "# compiling the model\n",
    "model.compile(loss='mse', optimizer='adam')"
   ]
  },
  {
   "cell_type": "code",
   "execution_count": 15,
   "metadata": {},
   "outputs": [
    {
     "name": "stdout",
     "output_type": "stream",
     "text": [
      "Epoch 1/30\n",
      "1000/1000 - 11s - loss: 0.0129 - val_loss: 1.3329e-04 - lr: 0.0010 - 11s/epoch - 11ms/step\n",
      "Epoch 2/30\n",
      "1000/1000 - 9s - loss: 7.0868e-04 - val_loss: 1.2407e-04 - lr: 0.0010 - 9s/epoch - 9ms/step\n",
      "Epoch 3/30\n",
      "1000/1000 - 8s - loss: 3.4529e-04 - val_loss: 7.9755e-05 - lr: 0.0010 - 8s/epoch - 8ms/step\n",
      "Epoch 4/30\n",
      "1000/1000 - 10s - loss: 2.4640e-04 - val_loss: 7.8593e-05 - lr: 0.0010 - 10s/epoch - 10ms/step\n",
      "Epoch 5/30\n",
      "1000/1000 - 10s - loss: 1.9573e-04 - val_loss: 7.2714e-05 - lr: 0.0010 - 10s/epoch - 10ms/step\n",
      "Epoch 6/30\n",
      "1000/1000 - 9s - loss: 1.6164e-04 - val_loss: 8.6024e-05 - lr: 0.0010 - 9s/epoch - 9ms/step\n",
      "Epoch 7/30\n",
      "1000/1000 - 10s - loss: 1.3205e-04 - val_loss: 5.4233e-05 - lr: 0.0010 - 10s/epoch - 10ms/step\n",
      "Epoch 8/30\n",
      "1000/1000 - 10s - loss: 1.1849e-04 - val_loss: 5.3254e-05 - lr: 0.0010 - 10s/epoch - 10ms/step\n",
      "Epoch 9/30\n",
      "1000/1000 - 10s - loss: 1.1414e-04 - val_loss: 5.9310e-05 - lr: 0.0010 - 10s/epoch - 10ms/step\n",
      "Epoch 10/30\n",
      "1000/1000 - 10s - loss: 1.0059e-04 - val_loss: 5.7792e-05 - lr: 0.0010 - 10s/epoch - 10ms/step\n",
      "Epoch 11/30\n",
      "1000/1000 - 10s - loss: 9.6233e-05 - val_loss: 3.4179e-05 - lr: 0.0010 - 10s/epoch - 10ms/step\n",
      "Epoch 12/30\n",
      "1000/1000 - 10s - loss: 9.3366e-05 - val_loss: 7.4043e-05 - lr: 0.0010 - 10s/epoch - 10ms/step\n",
      "Epoch 13/30\n",
      "1000/1000 - 10s - loss: 8.6280e-05 - val_loss: 1.0666e-04 - lr: 0.0010 - 10s/epoch - 10ms/step\n",
      "Epoch 14/30\n",
      "1000/1000 - 10s - loss: 8.2302e-05 - val_loss: 7.9877e-05 - lr: 0.0010 - 10s/epoch - 10ms/step\n",
      "Epoch 15/30\n",
      "1000/1000 - 10s - loss: 6.8395e-05 - val_loss: 5.9224e-05 - lr: 2.5000e-04 - 10s/epoch - 10ms/step\n",
      "Epoch 16/30\n",
      "1000/1000 - 10s - loss: 6.3628e-05 - val_loss: 6.0050e-05 - lr: 2.5000e-04 - 10s/epoch - 10ms/step\n",
      "Epoch 17/30\n",
      "1000/1000 - 10s - loss: 6.3795e-05 - val_loss: 7.4609e-05 - lr: 2.5000e-04 - 10s/epoch - 10ms/step\n",
      "Epoch 18/30\n",
      "1000/1000 - 10s - loss: 5.9117e-05 - val_loss: 5.3375e-05 - lr: 6.2500e-05 - 10s/epoch - 10ms/step\n",
      "Epoch 19/30\n",
      "1000/1000 - 10s - loss: 5.8804e-05 - val_loss: 4.7647e-05 - lr: 6.2500e-05 - 10s/epoch - 10ms/step\n",
      "Epoch 20/30\n",
      "1000/1000 - 10s - loss: 5.9011e-05 - val_loss: 4.5272e-05 - lr: 6.2500e-05 - 10s/epoch - 10ms/step\n",
      "Epoch 21/30\n",
      "1000/1000 - 10s - loss: 5.7702e-05 - val_loss: 4.6992e-05 - lr: 1.5625e-05 - 10s/epoch - 10ms/step\n",
      "Epoch 22/30\n",
      "1000/1000 - 10s - loss: 5.7652e-05 - val_loss: 4.4195e-05 - lr: 1.5625e-05 - 10s/epoch - 10ms/step\n",
      "Epoch 23/30\n",
      "1000/1000 - 10s - loss: 5.8613e-05 - val_loss: 4.7531e-05 - lr: 1.5625e-05 - 10s/epoch - 10ms/step\n",
      "Epoch 24/30\n",
      "1000/1000 - 10s - loss: 5.7873e-05 - val_loss: 4.6941e-05 - lr: 3.9063e-06 - 10s/epoch - 10ms/step\n",
      "Epoch 25/30\n",
      "1000/1000 - 10s - loss: 5.7558e-05 - val_loss: 4.6746e-05 - lr: 3.9063e-06 - 10s/epoch - 10ms/step\n",
      "Epoch 26/30\n",
      "1000/1000 - 10s - loss: 5.7059e-05 - val_loss: 4.8408e-05 - lr: 3.9063e-06 - 10s/epoch - 10ms/step\n",
      "Epoch 27/30\n",
      "1000/1000 - 10s - loss: 5.6811e-05 - val_loss: 4.7715e-05 - lr: 9.7656e-07 - 10s/epoch - 10ms/step\n",
      "Epoch 28/30\n",
      "1000/1000 - 10s - loss: 5.8134e-05 - val_loss: 5.0302e-05 - lr: 9.7656e-07 - 10s/epoch - 10ms/step\n",
      "Epoch 29/30\n",
      "1000/1000 - 10s - loss: 5.7140e-05 - val_loss: 4.7599e-05 - lr: 9.7656e-07 - 10s/epoch - 10ms/step\n",
      "Epoch 30/30\n",
      "1000/1000 - 10s - loss: 5.7316e-05 - val_loss: 4.8297e-05 - lr: 2.4414e-07 - 10s/epoch - 10ms/step\n"
     ]
    },
    {
     "data": {
      "text/plain": [
       "<keras.src.callbacks.History at 0x309dafc90>"
      ]
     },
     "execution_count": 15,
     "metadata": {},
     "output_type": "execute_result"
    }
   ],
   "source": [
    "callbacks = [tf.keras.callbacks.ReduceLROnPlateau(monitor=\"val_loss\", factor=0.25, patience=3, verbose=0, mode=\"auto\", min_delta=1e-8, cooldown=0, min_lr=0.0)]\n",
    "model.fit(dataset_train, steps_per_epoch=1000, validation_data=dataset_test, validation_steps=500, epochs=30, verbose=2, callbacks=callbacks)"
   ]
  },
  {
   "cell_type": "code",
   "execution_count": 18,
   "metadata": {},
   "outputs": [
    {
     "name": "stdout",
     "output_type": "stream",
     "text": [
      "391/391 [==============================] - 2s 4ms/step\n"
     ]
    }
   ],
   "source": [
    "predictions = model.predict(dataset_test2)"
   ]
  },
  {
   "cell_type": "code",
   "execution_count": 19,
   "metadata": {},
   "outputs": [
    {
     "name": "stdout",
     "output_type": "stream",
     "text": [
      "Mean Squared Error: 4.8334052e-05\n"
     ]
    }
   ],
   "source": [
    "# Get the true values from the test dataset\n",
    "true_values = []\n",
    "for _, rate in dataset_test2:\n",
    "    true_values.extend(rate.numpy())\n",
    "\n",
    "# Convert true_values to a numpy array\n",
    "true_values = np.array(true_values)\n",
    "\n",
    "# Convert predictions to a numpy array if not already\n",
    "predictions = np.array(predictions)\n",
    "\n",
    "# Compute MSE using TensorFlow\n",
    "mse = np.mean((true_values - predictions)**2)\n",
    "print(\"Mean Squared Error:\", mse)"
   ]
  },
  {
   "cell_type": "code",
   "execution_count": 123,
   "metadata": {},
   "outputs": [],
   "source": [
    "def create_model():\n",
    "    # defining inputs \n",
    "    year = tfkl.Input(shape=(1,), dtype='float32', name='Year')\n",
    "    age =  tfkl.Input(shape=(1,), dtype='int32', name='Age')\n",
    "    state = tfkl.Input(shape=(1,), dtype='int32', name='State')\n",
    "    gender = tfkl.Input(shape=(1,), dtype='int32', name='Gender')\n",
    "\n",
    "    # defining embedding layers \n",
    "    age_embed = tfkl.Embedding(input_dim=100, output_dim=5, input_length=1, name='Age_embed')(age)\n",
    "    age_embed = tfkl.Flatten()(age_embed)\n",
    "\n",
    "    gender_embed = tfkl.Embedding(input_dim=2, output_dim=5, input_length=1, name='Gender_embed')(gender)\n",
    "    gender_embed = tfkl.Flatten()(gender_embed)\n",
    "\n",
    "    state_embed = tfkl.Embedding(input_dim=50, output_dim=5, input_length=1, name='State_embed')(state)\n",
    "    state_embed = tfkl.Flatten()(state_embed)\n",
    "\n",
    "    # create feature vector that concatenates all inputs \n",
    "    x = tfkl.Concatenate()([year, age_embed, gender_embed, state_embed])\n",
    "    x1 = x\n",
    "\n",
    "    # setting up middle layers \n",
    "    x = tfkl.Dense(128, activation='tanh')(x)\n",
    "    x = tfkl.BatchNormalization()(x)\n",
    "    x = tfkl.Dropout(0.05)(x)\n",
    "\n",
    "    x = tfkl.Dense(128, activation='tanh')(x)\n",
    "    x = tfkl.BatchNormalization()(x)\n",
    "    x = tfkl.Dropout(0.05)(x)\n",
    "\n",
    "    x = tfkl.Dense(128, activation='tanh')(x)\n",
    "    x = tfkl.BatchNormalization()(x)\n",
    "    x = tfkl.Dropout(0.05)(x)\n",
    "\n",
    "    x = tfkl.Dense(128, activation='tanh')(x)\n",
    "    x = tfkl.BatchNormalization()(x)\n",
    "    x = tfkl.Dropout(0.05)(x)\n",
    "\n",
    "    # setting up output layer \n",
    "    x = tfkl.Concatenate()([x1, x])\n",
    "    x = tfkl.Dense(128, activation='tanh')(x)\n",
    "    x = tfkl.BatchNormalization()(x)\n",
    "    x = tfkl.Dropout(0.05)(x)\n",
    "    x = tfkl.Dense(1, activation='sigmoid', name='final')(x)\n",
    "\n",
    "    # creating the model \n",
    "    model = tf.keras.Model(inputs=[year, age, state, gender], outputs=[x])\n",
    "\n",
    "    # compiling the model\n",
    "    model.compile(loss='mse', optimizer='adam')\n",
    "\n",
    "    return model"
   ]
  },
  {
   "cell_type": "code",
   "execution_count": 155,
   "metadata": {},
   "outputs": [],
   "source": [
    "def run_deep_model(dataset_train, dataset_test):\n",
    "    \n",
    "    model = create_model()\n",
    "\n",
    "    callbacks = [tf.keras.callbacks.ReduceLROnPlateau(monitor=\"val_loss\", factor=0.25, patience=3, verbose=0, mode=\"auto\", \n",
    "                                                    min_delta=1e-8, cooldown=0, min_lr=0.0)]\n",
    "    history = model.fit(dataset_train, steps_per_epoch=1000, validation_data=dataset_test, validation_steps=500, \n",
    "                        epochs=30, verbose=0, callbacks=callbacks)\n",
    "\n",
    "    loss_info = history.history['val_loss'][-1]\n",
    "\n",
    "    tf.keras.backend.clear_session()\n",
    "\n",
    "    return loss_info\n"
   ]
  },
  {
   "cell_type": "code",
   "execution_count": 137,
   "metadata": {},
   "outputs": [
    {
     "name": "stdout",
     "output_type": "stream",
     "text": [
      "1000/1000 - 9s - loss: 0.0135 - val_loss: 7.8695e-04 - lr: 0.0010 - 9s/epoch - 9ms/step\n"
     ]
    }
   ],
   "source": [
    "results = run_deep_model(dataset_train, dataset_test)"
   ]
  },
  {
   "cell_type": "code",
   "execution_count": 138,
   "metadata": {},
   "outputs": [
    {
     "name": "stdout",
     "output_type": "stream",
     "text": [
      "0.000786953023634851\n"
     ]
    }
   ],
   "source": [
    "print(results)"
   ]
  },
  {
   "cell_type": "markdown",
   "metadata": {},
   "source": [
    "# Train Lee-Carter model"
   ]
  },
  {
   "cell_type": "code",
   "execution_count": 211,
   "metadata": {},
   "outputs": [
    {
     "name": "stdout",
     "output_type": "stream",
     "text": [
      "(470000, 5)\n"
     ]
    }
   ],
   "source": [
    "# non-tensor train / test split (same years in training / test here as in method above)\n",
    "training_index = np.logical_and(data[:, 2] >= 1959, data[:, 2] <= 2005)\n",
    "training_data = data[training_index, :]\n",
    "print(training_data.shape)\n",
    "\n",
    "test_index = np.logical_and(data[:, 2] > 2005, data[:, 2] <= 2015)\n",
    "test_data = data[test_index, :]\n",
    "\n",
    "final_test_index = np.logical_and(data[:, 2] > 2015, data[:, 2] <= 2019)\n",
    "final_test = data[final_test_index, :]"
   ]
  },
  {
   "cell_type": "code",
   "execution_count": 158,
   "metadata": {},
   "outputs": [],
   "source": [
    "# set up lee-carter function\n",
    "\n",
    "def lee_carter(mx_matrix):\n",
    "    \"\"\"\n",
    "    Run the Lee-Carter model on age-specific mortality data.\n",
    "    \n",
    "    Args:\n",
    "        mx_matrix (numpy.ndarray): A 2D array of age-specific mortality rates. rows = age, columns = years\n",
    "        \n",
    "    Returns:\n",
    "        tuple: A tuple containing the estimated parameters (ax, bx, kt) and the fitted mortality rates.\n",
    "    \"\"\"\n",
    "    mx_matrix[mx_matrix <= 0] = 1e-9\n",
    "\n",
    "    ax = np.mean(np.log(mx_matrix), axis=1)\n",
    "    ax = ax.reshape(-1, 1) # reshape ax into column vector\n",
    "    \n",
    "    centered_mx = np.log(mx_matrix) - ax\n",
    "    \n",
    "    # SVD\n",
    "    U, S, Vt = np.linalg.svd(centered_mx, full_matrices=False)\n",
    "\n",
    "    # extract right and left singular vectors (bx and kt)\n",
    "    bx = U[:, 0]\n",
    "    kt = Vt[0, :]\n",
    "    # print(kt)\n",
    "\n",
    "    # normalize bx and kt \n",
    "    bx = bx / np.sum(bx)\n",
    "    # print(np.mean(kt))\n",
    "    kt = kt - np.mean(kt)\n",
    "    # print(np.mean(kt))\n",
    "\n",
    "    # estimate fitted mortality \n",
    "    fitted_mort = np.exp(ax + np.outer(bx, kt))\n",
    "\n",
    "    return (ax, bx, kt), fitted_mort"
   ]
  },
  {
   "cell_type": "code",
   "execution_count": 157,
   "metadata": {},
   "outputs": [],
   "source": [
    "# set up function to run multiple models on all years in training data\n",
    "\n",
    "def lee_carter_state_gender(data):\n",
    "\n",
    "    states = np.unique(data[:, 0])\n",
    "    genders = np.unique(data[:, 1])\n",
    "\n",
    "    results = {}\n",
    "\n",
    "    for state in states:\n",
    "        for gender in genders:\n",
    "            mask = (data[:, 0] == state) & (data[:, 1] == gender)\n",
    "            state_gender_data = data[mask]\n",
    "\n",
    "            # extract ages and years\n",
    "            years = np.unique(state_gender_data[:, 2])\n",
    "            ages = np.unique(state_gender_data[:, 3])\n",
    "\n",
    "            m_x = np.zeros((len(ages), len(years)))\n",
    "\n",
    "            for i, age in enumerate(ages):\n",
    "                for j, year in enumerate(years):\n",
    "                    mask = (state_gender_data[:, 3] == age) & (state_gender_data[:, 2] == year)\n",
    "                    m_x[i,j] = state_gender_data[mask, 4]\n",
    "\n",
    "            params, fitted_mort = lee_carter(m_x)\n",
    "    \n",
    "            # Store the results for the current state and gender\n",
    "            results[(state, gender)] = {\n",
    "                'params': params,\n",
    "                'fitted_mortality': fitted_mort\n",
    "            }\n",
    "    \n",
    "    return results\n",
    "            "
   ]
  },
  {
   "cell_type": "code",
   "execution_count": 151,
   "metadata": {},
   "outputs": [
    {
     "name": "stderr",
     "output_type": "stream",
     "text": [
      "/var/folders/1z/wn6shwbs4_9gcwtsrgz8v5vc0000gn/T/ipykernel_88639/1011471225.py:24: DeprecationWarning: Conversion of an array with ndim > 0 to a scalar is deprecated, and will error in future. Ensure you extract a single element from your array before performing this operation. (Deprecated NumPy 1.25.)\n",
      "  m_x[i,j] = state_gender_data[mask, 4]\n"
     ]
    },
    {
     "ename": "KeyboardInterrupt",
     "evalue": "",
     "output_type": "error",
     "traceback": [
      "\u001b[0;31m---------------------------------------------------------------------------\u001b[0m",
      "\u001b[0;31mKeyboardInterrupt\u001b[0m                         Traceback (most recent call last)",
      "Cell \u001b[0;32mIn[151], line 1\u001b[0m\n\u001b[0;32m----> 1\u001b[0m trial \u001b[38;5;241m=\u001b[39m lee_carter_state_gender(training_data)\n",
      "Cell \u001b[0;32mIn[144], line 24\u001b[0m, in \u001b[0;36mlee_carter_state_gender\u001b[0;34m(data)\u001b[0m\n\u001b[1;32m     22\u001b[0m     \u001b[38;5;28;01mfor\u001b[39;00m j, year \u001b[38;5;129;01min\u001b[39;00m \u001b[38;5;28menumerate\u001b[39m(years):\n\u001b[1;32m     23\u001b[0m         mask \u001b[38;5;241m=\u001b[39m (state_gender_data[:, \u001b[38;5;241m3\u001b[39m] \u001b[38;5;241m==\u001b[39m age) \u001b[38;5;241m&\u001b[39m (state_gender_data[:, \u001b[38;5;241m2\u001b[39m] \u001b[38;5;241m==\u001b[39m year)\n\u001b[0;32m---> 24\u001b[0m         m_x[i,j] \u001b[38;5;241m=\u001b[39m state_gender_data[mask, \u001b[38;5;241m4\u001b[39m]\n\u001b[1;32m     26\u001b[0m params, fitted_mort \u001b[38;5;241m=\u001b[39m lee_carter(m_x)\n\u001b[1;32m     28\u001b[0m \u001b[38;5;66;03m# Store the results for the current state and gender\u001b[39;00m\n",
      "\u001b[0;31mKeyboardInterrupt\u001b[0m: "
     ]
    }
   ],
   "source": [
    "trial = lee_carter_state_gender(training_data)"
   ]
  },
  {
   "cell_type": "code",
   "execution_count": 156,
   "metadata": {},
   "outputs": [],
   "source": [
    "def lee_carter_forecast(results, h, start_year, ages, drift=True):\n",
    "    \"\"\"\n",
    "    Perform the forecasting step of the Lee-Carter method using a random walk with drift.\n",
    "    \n",
    "    Args:\n",
    "        results (dict): A dictionary containing the estimated parameters (ax, bx, kt) for each state and gender combination.\n",
    "        h (int): The number of future periods to forecast.\n",
    "        start_year (int): The starting year of the forecast.\n",
    "        ages (numpy.ndarray): A 1D array of ages corresponding to the rows of the mortality matrix.\n",
    "        drift (bool, optional): Whether to include a drift term in the random walk. Default is True.\n",
    "        \n",
    "    Returns:\n",
    "        numpy.ndarray: A 2D array with 5 columns representing state, gender, year, age, and forecasted mortality rate.\n",
    "    \"\"\"\n",
    "    \n",
    "    forecasts = []\n",
    "    \n",
    "    for state, gender in results.keys():\n",
    "        ax, bx, kt = results[(state, gender)]['params']\n",
    "        \n",
    "        # Estimate the drift term\n",
    "        if drift:\n",
    "            drift_term = (kt[-1] - kt[0]) / (len(kt) - 1)\n",
    "        else:\n",
    "            drift_term = 0\n",
    "        \n",
    "        # Forecast future kt values using a random walk with drift\n",
    "        kt_forecast = np.zeros(h)\n",
    "        kt_forecast[0] = kt[-1]\n",
    "        for i in range(1, h):\n",
    "            kt_forecast[i] = kt_forecast[i-1] + drift_term + np.random.normal(0, 1)\n",
    "        \n",
    "        # Forecast future mortality rates\n",
    "        ax_matrix = np.repeat(ax, h).reshape(-1, h)\n",
    "        bx_matrix = np.repeat(bx, h).reshape(-1, h)\n",
    "        kt_matrix = np.repeat(kt_forecast, len(ax)).reshape(h, -1).T\n",
    "        mortality_forecast = np.exp(ax_matrix + bx_matrix * kt_matrix)\n",
    "\n",
    "\n",
    "        \n",
    "        # Create a 2D array with state, gender, year, age, and forecasted mortality rate\n",
    "        for i in range(h):\n",
    "            year = start_year + i\n",
    "            for j, age in enumerate(ages):\n",
    "                forecasts.append([state, gender, year, age, mortality_forecast[j, i]])\n",
    "\n",
    "    # Convert forecasts to a NumPy array\n",
    "    forecasts = np.array(forecasts)\n",
    "\n",
    "    # Sort the forecasts array based on the first four columns\n",
    "    sorted_indices = np.lexsort((forecasts[:, 3], forecasts[:, 2], forecasts[:, 1], forecasts[:, 0]))\n",
    "    forecasts = forecasts[sorted_indices]\n",
    "\n",
    "    \n",
    "    return forecasts"
   ]
  },
  {
   "cell_type": "code",
   "execution_count": 159,
   "metadata": {},
   "outputs": [],
   "source": [
    "# calculate MSE\n",
    "\n",
    "def calculate_mse(forecasted_rates, actual_rates):\n",
    "    \"\"\"\n",
    "    Calculate the Mean Squared Error (MSE) between the forecasted and actual mortality rates.\n",
    "    \n",
    "    Args:\n",
    "        forecasted_rates (numpy.ndarray): A 2D array with 5 columns representing state, gender, year, age, and forecasted mortality rate.\n",
    "        actual_rates (numpy.ndarray): A 2D array with 5 columns representing state, gender, year, age, and actual mortality rate.\n",
    "        \n",
    "    Returns:\n",
    "        float: The Mean Squared Error (MSE) between the forecasted and actual mortality rates.\n",
    "    \"\"\"\n",
    "    \n",
    "    # Extract the forecasted and actual mortality rates\n",
    "    forecasted_values = forecasted_rates[:, 4]\n",
    "    actual_values = actual_rates[:, 4]\n",
    "    \n",
    "    # Calculate the squared differences between the forecasted and actual rates\n",
    "    squared_differences = (forecasted_values - actual_values) ** 2\n",
    "    \n",
    "    # Calculate the Mean Squared Error (MSE)\n",
    "    mse = np.mean(squared_differences)\n",
    "    \n",
    "    return mse"
   ]
  },
  {
   "cell_type": "code",
   "execution_count": 147,
   "metadata": {},
   "outputs": [],
   "source": [
    "def run_lc_model(train_data, test_data):\n",
    "    lc_output = lee_carter_state_gender(train_data)\n",
    "    predictions = lee_carter_forecast(lc_output, h=10, start_year=2006, ages=range(0, 100))\n",
    "    test_mse = calculate_mse(predictions, test_data)\n",
    "\n",
    "    return np.array(test_mse)\n",
    "    "
   ]
  },
  {
   "cell_type": "code",
   "execution_count": null,
   "metadata": {},
   "outputs": [],
   "source": [
    "lc_results = run_lc_model(train_data=training_data, test_data=test_data)"
   ]
  },
  {
   "cell_type": "markdown",
   "metadata": {},
   "source": [
    "# Looping function to run models "
   ]
  },
  {
   "cell_type": "code",
   "execution_count": 160,
   "metadata": {},
   "outputs": [],
   "source": [
    "def compare_models(num_iterations):\n",
    "    results = []\n",
    "    for i in range(num_iterations):\n",
    "        lc_results = run_lc_model(train_data=training_data, test_data=test_data)\n",
    "        deep_results = run_deep_model(dataset_train=dataset_train, dataset_test=dataset_test)\n",
    "        results.append((deep_results, lc_results))\n",
    "        print(f\"Loop {i}: deep mse {results[i][0]} & lc mse {results[i][1]}\")\n",
    "\n",
    "    return results\n",
    "        "
   ]
  },
  {
   "cell_type": "code",
   "execution_count": 161,
   "metadata": {},
   "outputs": [
    {
     "name": "stderr",
     "output_type": "stream",
     "text": [
      "/var/folders/1z/wn6shwbs4_9gcwtsrgz8v5vc0000gn/T/ipykernel_88639/1271048323.py:24: DeprecationWarning: Conversion of an array with ndim > 0 to a scalar is deprecated, and will error in future. Ensure you extract a single element from your array before performing this operation. (Deprecated NumPy 1.25.)\n",
      "  m_x[i,j] = state_gender_data[mask, 4]\n"
     ]
    },
    {
     "name": "stdout",
     "output_type": "stream",
     "text": [
      "Loop 0: deep mse 4.0398939745500684e-05 & lc mse 0.0003915247299684933\n",
      "Loop 1: deep mse 6.0458645748440176e-05 & lc mse 0.00039128320488239905\n",
      "Loop 2: deep mse 4.817579247173853e-05 & lc mse 0.0003891320282911292\n",
      "Loop 3: deep mse 5.007610161555931e-05 & lc mse 0.0003862197077289283\n",
      "Loop 4: deep mse 4.09356398449745e-05 & lc mse 0.00038688559897930323\n",
      "Loop 5: deep mse 4.911636278848164e-05 & lc mse 0.0003864877662411712\n",
      "Loop 6: deep mse 4.301398075767793e-05 & lc mse 0.0003892479426403891\n",
      "Loop 7: deep mse 4.956285556545481e-05 & lc mse 0.00038826033560748026\n",
      "Loop 8: deep mse 4.017120591015555e-05 & lc mse 0.0003908170289735953\n",
      "Loop 9: deep mse 5.103383955429308e-05 & lc mse 0.00038729158184310007\n",
      "Loop 10: deep mse 4.477219408727251e-05 & lc mse 0.0003893728425534582\n",
      "Loop 11: deep mse 4.873637590208091e-05 & lc mse 0.00039045673061155\n",
      "Loop 12: deep mse 4.5513785153161734e-05 & lc mse 0.0003895944230450417\n",
      "Loop 13: deep mse 7.137803186196834e-05 & lc mse 0.00038838044018389434\n",
      "Loop 14: deep mse 5.818564386572689e-05 & lc mse 0.00038506183491556774\n",
      "Loop 15: deep mse 5.986831820337102e-05 & lc mse 0.0003870977087485554\n",
      "Loop 16: deep mse 4.108035864192061e-05 & lc mse 0.0003863712150338229\n",
      "Loop 17: deep mse 4.370341048343107e-05 & lc mse 0.00039019770114330634\n",
      "Loop 18: deep mse 4.055399767821655e-05 & lc mse 0.00039094099481334026\n",
      "Loop 19: deep mse 4.116302807233296e-05 & lc mse 0.00039022104129748535\n",
      "Loop 20: deep mse 4.791400351678021e-05 & lc mse 0.00038905815260852994\n",
      "Loop 21: deep mse 4.290840297471732e-05 & lc mse 0.00038547200411755784\n",
      "Loop 22: deep mse 6.165607192087919e-05 & lc mse 0.00038458043220354626\n",
      "Loop 23: deep mse 5.2702234825119376e-05 & lc mse 0.0003919180677142061\n",
      "Loop 24: deep mse 4.242498835083097e-05 & lc mse 0.00038749852383906686\n",
      "Loop 25: deep mse 4.239140616846271e-05 & lc mse 0.000386309489546373\n",
      "Loop 26: deep mse 6.20987921138294e-05 & lc mse 0.000388732004985983\n",
      "Loop 27: deep mse 4.934299431624822e-05 & lc mse 0.0003916216373170008\n",
      "Loop 28: deep mse 4.587364674080163e-05 & lc mse 0.000389226141050393\n",
      "Loop 29: deep mse 4.513711610343307e-05 & lc mse 0.00038740700920695306\n"
     ]
    }
   ],
   "source": [
    "comparison_results = compare_models(num_iterations=30)"
   ]
  },
  {
   "cell_type": "code",
   "execution_count": 162,
   "metadata": {},
   "outputs": [
    {
     "data": {
      "text/plain": [
       "[(4.0398939745500684e-05, array(0.00039152)),\n",
       " (6.0458645748440176e-05, array(0.00039128)),\n",
       " (4.817579247173853e-05, array(0.00038913)),\n",
       " (5.007610161555931e-05, array(0.00038622)),\n",
       " (4.09356398449745e-05, array(0.00038689)),\n",
       " (4.911636278848164e-05, array(0.00038649)),\n",
       " (4.301398075767793e-05, array(0.00038925)),\n",
       " (4.956285556545481e-05, array(0.00038826)),\n",
       " (4.017120591015555e-05, array(0.00039082)),\n",
       " (5.103383955429308e-05, array(0.00038729)),\n",
       " (4.477219408727251e-05, array(0.00038937)),\n",
       " (4.873637590208091e-05, array(0.00039046)),\n",
       " (4.5513785153161734e-05, array(0.00038959)),\n",
       " (7.137803186196834e-05, array(0.00038838)),\n",
       " (5.818564386572689e-05, array(0.00038506)),\n",
       " (5.986831820337102e-05, array(0.0003871)),\n",
       " (4.108035864192061e-05, array(0.00038637)),\n",
       " (4.370341048343107e-05, array(0.0003902)),\n",
       " (4.055399767821655e-05, array(0.00039094)),\n",
       " (4.116302807233296e-05, array(0.00039022)),\n",
       " (4.791400351678021e-05, array(0.00038906)),\n",
       " (4.290840297471732e-05, array(0.00038547)),\n",
       " (6.165607192087919e-05, array(0.00038458)),\n",
       " (5.2702234825119376e-05, array(0.00039192)),\n",
       " (4.242498835083097e-05, array(0.0003875)),\n",
       " (4.239140616846271e-05, array(0.00038631)),\n",
       " (6.20987921138294e-05, array(0.00038873)),\n",
       " (4.934299431624822e-05, array(0.00039162)),\n",
       " (4.587364674080163e-05, array(0.00038923)),\n",
       " (4.513711610343307e-05, array(0.00038741))]"
      ]
     },
     "execution_count": 162,
     "metadata": {},
     "output_type": "execute_result"
    }
   ],
   "source": [
    "comparison_results"
   ]
  },
  {
   "cell_type": "code",
   "execution_count": 164,
   "metadata": {},
   "outputs": [],
   "source": [
    "comp_results_np = np.array(comparison_results)"
   ]
  },
  {
   "cell_type": "code",
   "execution_count": 165,
   "metadata": {},
   "outputs": [
    {
     "data": {
      "text/plain": [
       "array([[4.03989397e-05, 3.91524730e-04],\n",
       "       [6.04586457e-05, 3.91283205e-04],\n",
       "       [4.81757925e-05, 3.89132028e-04],\n",
       "       [5.00761016e-05, 3.86219708e-04],\n",
       "       [4.09356398e-05, 3.86885599e-04],\n",
       "       [4.91163628e-05, 3.86487766e-04],\n",
       "       [4.30139808e-05, 3.89247943e-04],\n",
       "       [4.95628556e-05, 3.88260336e-04],\n",
       "       [4.01712059e-05, 3.90817029e-04],\n",
       "       [5.10338396e-05, 3.87291582e-04],\n",
       "       [4.47721941e-05, 3.89372843e-04],\n",
       "       [4.87363759e-05, 3.90456731e-04],\n",
       "       [4.55137852e-05, 3.89594423e-04],\n",
       "       [7.13780319e-05, 3.88380440e-04],\n",
       "       [5.81856439e-05, 3.85061835e-04],\n",
       "       [5.98683182e-05, 3.87097709e-04],\n",
       "       [4.10803586e-05, 3.86371215e-04],\n",
       "       [4.37034105e-05, 3.90197701e-04],\n",
       "       [4.05539977e-05, 3.90940995e-04],\n",
       "       [4.11630281e-05, 3.90221041e-04],\n",
       "       [4.79140035e-05, 3.89058153e-04],\n",
       "       [4.29084030e-05, 3.85472004e-04],\n",
       "       [6.16560719e-05, 3.84580432e-04],\n",
       "       [5.27022348e-05, 3.91918068e-04],\n",
       "       [4.24249884e-05, 3.87498524e-04],\n",
       "       [4.23914062e-05, 3.86309490e-04],\n",
       "       [6.20987921e-05, 3.88732005e-04],\n",
       "       [4.93429943e-05, 3.91621637e-04],\n",
       "       [4.58736467e-05, 3.89226141e-04],\n",
       "       [4.51371161e-05, 3.87407009e-04]])"
      ]
     },
     "execution_count": 165,
     "metadata": {},
     "output_type": "execute_result"
    }
   ],
   "source": [
    "comp_results_np"
   ]
  },
  {
   "cell_type": "code",
   "execution_count": 193,
   "metadata": {},
   "outputs": [],
   "source": [
    "deep_mean = comp_results_np[:,0].mean()\n",
    "deep_med = np.median(comp_results_np[:,0])\n",
    "\n",
    "lc_mean = comp_results_np[:,1].mean()\n",
    "lc_med = np.median(comp_results_np[:,1])\n",
    "\n",
    "lc_country_mean = 5.5\n",
    "deep_country_mean = 2.68"
   ]
  },
  {
   "cell_type": "code",
   "execution_count": 194,
   "metadata": {},
   "outputs": [
    {
     "name": "stdout",
     "output_type": "stream",
     "text": [
      "[0.48678272 3.88555611]\n",
      "[2.68 5.5 ]\n"
     ]
    }
   ],
   "source": [
    "state_values = [deep_mean, lc_mean]\n",
    "state_data = np.array(state_values)\n",
    "\n",
    "country_values = [deep_country_mean, lc_country_mean]\n",
    "country_data = np.array(country_values)\n",
    "\n",
    "state_data = state_data*(10 ** 4)\n",
    "print(state_data)\n",
    "print(country_data)"
   ]
  },
  {
   "cell_type": "code",
   "execution_count": 200,
   "metadata": {},
   "outputs": [
    {
     "data": {
      "image/png": "[encoded data removed]",
      "text/plain": [
       "<Figure size 1000x600 with 2 Axes>"
      ]
     },
     "metadata": {},
     "output_type": "display_data"
    }
   ],
   "source": [
    "# Create labels for the x-axis\n",
    "labels = ['Deep Learning\\nMean', 'Lee Carter\\nMean']\n",
    "\n",
    "# Create a figure and subplots\n",
    "fig, (ax1, ax2) = plt.subplots(1, 2, figsize=(10, 6))\n",
    "\n",
    "# Create the bar plot for state-level analysis\n",
    "bar_width = 0.7\n",
    "x = np.arange(len(labels))\n",
    "rects1 = ax1.bar(x, state_data, width=bar_width)\n",
    "\n",
    "# Add labels and title for state-level plot\n",
    "ax1.set_xlabel('Approach', fontsize=12)\n",
    "ax1.set_ylabel('MSE (Multiplied by $10^4$)', fontsize=12)\n",
    "ax1.set_title('USMDB State Analysis', fontsize=14)\n",
    "ax1.set_xticks(x)\n",
    "ax1.set_xticklabels(labels)\n",
    "\n",
    "# Add value labels on top of each bar for state-level plot\n",
    "for rect in rects1:\n",
    "    height = rect.get_height()\n",
    "    ax1.annotate(f'{height:.4f}',\n",
    "                 xy=(rect.get_x() + rect.get_width() / 2, height),\n",
    "                 xytext=(0, 3),  # 3 points vertical offset\n",
    "                 textcoords=\"offset points\",\n",
    "                 ha='center', va='bottom')\n",
    "\n",
    "# Create the bar plot for country-level analysis\n",
    "rects2 = ax2.bar(x, country_data, width=bar_width)\n",
    "\n",
    "# Add labels and title for country-level plot\n",
    "ax2.set_xlabel('Approach', fontsize=12)\n",
    "ax2.set_ylabel('MSE (Multiplied by $10^4$)', fontsize=12)\n",
    "ax2.set_title('HMD Country-level Analysis (Richman and Wuthrich)', fontsize=14)\n",
    "ax2.set_xticks(x)\n",
    "ax2.set_xticklabels(labels)\n",
    "\n",
    "# Add value labels on top of each bar for country-level plot\n",
    "for rect in rects2:\n",
    "    height = rect.get_height()\n",
    "    ax2.annotate(f'{height:.4f}',\n",
    "                 xy=(rect.get_x() + rect.get_width() / 2, height),\n",
    "                 xytext=(0, 3),  # 3 points vertical offset\n",
    "                 textcoords=\"offset points\",\n",
    "                 ha='center', va='bottom')\n",
    "\n",
    "# Adjust the layout and display the plots\n",
    "fig.tight_layout()\n",
    "plt.show()"
   ]
  },
  {
   "cell_type": "code",
   "execution_count": 223,
   "metadata": {},
   "outputs": [],
   "source": [
    "# hard code deep covariate mse for now (comes from us-extension-brfss.ipynb with smoking and BMI)\n",
    "deep_covariates = 5.0805e-05\n",
    "updated_state_values = [deep_mean, deep_covariates, lc_mean]\n",
    "updated_state_data = np.array(updated_state_values)\n",
    "updated_state_data = updated_state_data*(10 ** 4)"
   ]
  },
  {
   "cell_type": "code",
   "execution_count": 224,
   "metadata": {},
   "outputs": [
    {
     "name": "stdout",
     "output_type": "stream",
     "text": [
      "[0.48678272 0.50805    3.88555611]\n"
     ]
    }
   ],
   "source": [
    "print(updated_state_data)"
   ]
  },
  {
   "cell_type": "code",
   "execution_count": 233,
   "metadata": {},
   "outputs": [
    {
     "data": {
      "image/png": "[encoded data removed]",
      "text/plain": [
       "<Figure size 800x600 with 1 Axes>"
      ]
     },
     "metadata": {},
     "output_type": "display_data"
    }
   ],
   "source": [
    "# Create labels for the x-axis\n",
    "labels = ['Deep Learning', 'Deep Learning\\nWith Covariates','Lee Carter']\n",
    "\n",
    "# Create a figure and axis\n",
    "fig, ax = plt.subplots(figsize=(8, 6))\n",
    "\n",
    "# Create the bar plot\n",
    "bar_width = 0.5\n",
    "x = np.arange(len(labels))\n",
    "rects = ax.bar(x, updated_state_data, width=bar_width)\n",
    "\n",
    "# Add labels and title\n",
    "ax.set_xlabel('Approach', fontsize=12)\n",
    "ax.set_ylabel('MSE', fontsize=12)\n",
    "ax.set_title('MSE Comparison by Approach', fontsize=14)\n",
    "ax.set_xticks(x)\n",
    "ax.set_xticklabels(labels)\n",
    "\n",
    "# Add value labels on top of each bar\n",
    "for rect in rects:\n",
    "    height = rect.get_height()\n",
    "    ax.annotate(f'{height:.4f}',\n",
    "                xy=(rect.get_x() + rect.get_width() / 2, height),\n",
    "                xytext=(0, 3),  # 3 points vertical offset\n",
    "                textcoords=\"offset points\",\n",
    "                ha='center', va='bottom')\n",
    "\n",
    "# Adjust the layout and display the plot\n",
    "fig.tight_layout()\n",
    "plt.show()"
   ]
  },
  {
   "cell_type": "markdown",
   "metadata": {},
   "source": [
    "# Residual analysis"
   ]
  },
  {
   "cell_type": "code",
   "execution_count": 203,
   "metadata": {},
   "outputs": [],
   "source": [
    "final_test_index = np.logical_and(data[:, 2] > 2015, data[:, 2] <= 2019)\n",
    "final_test = data[final_test_index, :]"
   ]
  },
  {
   "cell_type": "code",
   "execution_count": 206,
   "metadata": {},
   "outputs": [
    {
     "data": {
      "text/plain": [
       "array([[0.0000e+00, 0.0000e+00, 2.0160e+03, 0.0000e+00, 4.6000e-03],\n",
       "       [0.0000e+00, 0.0000e+00, 2.0160e+03, 1.0000e+00, 7.4000e-04],\n",
       "       [0.0000e+00, 0.0000e+00, 2.0160e+03, 2.0000e+00, 1.9000e-04],\n",
       "       ...,\n",
       "       [4.9000e+01, 1.0000e+00, 2.0190e+03, 9.7000e+01, 3.7822e-01],\n",
       "       [4.9000e+01, 1.0000e+00, 2.0190e+03, 9.8000e+01, 4.1083e-01],\n",
       "       [4.9000e+01, 1.0000e+00, 2.0190e+03, 9.9000e+01, 4.4425e-01]])"
      ]
     },
     "execution_count": 206,
     "metadata": {},
     "output_type": "execute_result"
    }
   ],
   "source": [
    "final_test.shape\n",
    "final_test"
   ]
  },
  {
   "cell_type": "code",
   "execution_count": 208,
   "metadata": {},
   "outputs": [
    {
     "name": "stdout",
     "output_type": "stream",
     "text": [
      "1250/1250 [==============================] - 1s 875us/step\n"
     ]
    }
   ],
   "source": [
    "model = create_model()\n",
    "predicted_rates = model.predict([final_test[:,2], final_test[:,3], final_test[:,0], final_test[:,1]])"
   ]
  },
  {
   "cell_type": "code",
   "execution_count": 210,
   "metadata": {},
   "outputs": [
    {
     "name": "stdout",
     "output_type": "stream",
     "text": [
      "(40000, 1)\n"
     ]
    }
   ],
   "source": [
    "print(predicted_rates.shape)"
   ]
  },
  {
   "cell_type": "code",
   "execution_count": null,
   "metadata": {},
   "outputs": [],
   "source": []
  },
  {
   "cell_type": "code",
   "execution_count": null,
   "metadata": {},
   "outputs": [],
   "source": []
  }
 ],
 "metadata": {
  "kernelspec": {
   "display_name": "deep",
   "language": "python",
   "name": "python3"
  },
  "language_info": {
   "codemirror_mode": {
    "name": "ipython",
    "version": 3
   },
   "file_extension": ".py",
   "mimetype": "text/x-python",
   "name": "python",
   "nbconvert_exporter": "python",
   "pygments_lexer": "ipython3",
   "version": "3.11.5"
  }
 },
 "nbformat": 4,
 "nbformat_minor": 2
}
