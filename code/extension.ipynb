{
 "cells": [
  {
   "cell_type": "code",
   "execution_count": 2,
   "metadata": {},
   "outputs": [],
   "source": [
    "import tensorflow as tf\n",
    "tfkl = tf.keras.layers\n",
    "import csv\n",
    "import numpy as np\n",
    "import pandas as pd\n",
    "import os as os\n",
    "import matplotlib.pyplot as plt\n",
    "#from keras.layers import Input, Embedding, Flatten, Dense, BatchNormalization, Dropout, concatenate\n",
    "#from keras.models import Model\n",
    "from sklearn.preprocessing import StandardScaler\n",
    "from sklearn.preprocessing import LabelEncoder"
   ]
  },
  {
   "cell_type": "code",
   "execution_count": 3,
   "metadata": {},
   "outputs": [
    {
     "name": "stdout",
     "output_type": "stream",
     "text": [
      "['Year', 'Age', 'Country', 'Gender', 'Mortality_rate']\n"
     ]
    }
   ],
   "source": [
    "# load in hmd data\n",
    "data = []\n",
    "ages = []\n",
    "countries = []\n",
    "genders = []\n",
    "\n",
    "with open(\"../data/Mx_1x1/hmd.csv\", \"r\") as file:\n",
    "    reader = csv.reader(file,delimiter=\",\")\n",
    "    for row_index, row in enumerate(reader):\n",
    "        if row_index == 0:\n",
    "            print(row)\n",
    "        if row_index >= 1:\n",
    "            year, age, country, gender, rate = row\n",
    "            year = int(year)\n",
    "            try:\n",
    "                age = int(age)\n",
    "            except:\n",
    "                age = -1\n",
    "            if country not in countries:\n",
    "                countries.append(country)\n",
    "            country = countries.index(country)\n",
    "            if gender not in genders:\n",
    "                genders.append(gender)\n",
    "            gender = genders.index(gender)\n",
    "            try:\n",
    "                rate = float(rate)\n",
    "            except:\n",
    "                rate = -1\n",
    "            if rate > 1:\n",
    "                rate = 1\n",
    "            # truncating the ages as they do in the paper\n",
    "            # this might lead to issues when calculating e0 later \n",
    "            if age != -1 and rate != -1 and age <= 99: \n",
    "                data.append([year, age, country, gender, rate])\n",
    "\n",
    "data = np.array(data)"
   ]
  },
  {
   "cell_type": "code",
   "execution_count": 4,
   "metadata": {},
   "outputs": [],
   "source": [
    "# standardizing the hmd country codes to match the world bank country codes\n",
    "countries[28] = 'NZL'\n",
    "countries[12] = 'FRA'"
   ]
  },
  {
   "cell_type": "code",
   "execution_count": 5,
   "metadata": {},
   "outputs": [
    {
     "ename": "FileNotFoundError",
     "evalue": "[Errno 2] No such file or directory: '../data/wb_cleaned.npy'",
     "output_type": "error",
     "traceback": [
      "\u001b[0;31m---------------------------------------------------------------------------\u001b[0m",
      "\u001b[0;31mFileNotFoundError\u001b[0m                         Traceback (most recent call last)",
      "Cell \u001b[0;32mIn[5], line 1\u001b[0m\n\u001b[0;32m----> 1\u001b[0m wb_data \u001b[38;5;241m=\u001b[39m np\u001b[38;5;241m.\u001b[39mload(\u001b[38;5;124m\"\u001b[39m\u001b[38;5;124m../data/wb_cleaned.npy\u001b[39m\u001b[38;5;124m\"\u001b[39m)\n\u001b[1;32m      2\u001b[0m wb_indicators \u001b[38;5;241m=\u001b[39m np\u001b[38;5;241m.\u001b[39mload(\u001b[38;5;124m\"\u001b[39m\u001b[38;5;124m../data/wb_indicators.npy\u001b[39m\u001b[38;5;124m\"\u001b[39m)\n\u001b[1;32m      3\u001b[0m wb_countries \u001b[38;5;241m=\u001b[39m np\u001b[38;5;241m.\u001b[39mload(\u001b[38;5;124m\"\u001b[39m\u001b[38;5;124m../data/wb_countries.npy\u001b[39m\u001b[38;5;124m\"\u001b[39m)\n",
      "File \u001b[0;32m~/anaconda3/envs/deep/lib/python3.11/site-packages/numpy/lib/npyio.py:427\u001b[0m, in \u001b[0;36mload\u001b[0;34m(file, mmap_mode, allow_pickle, fix_imports, encoding, max_header_size)\u001b[0m\n\u001b[1;32m    425\u001b[0m     own_fid \u001b[38;5;241m=\u001b[39m \u001b[38;5;28;01mFalse\u001b[39;00m\n\u001b[1;32m    426\u001b[0m \u001b[38;5;28;01melse\u001b[39;00m:\n\u001b[0;32m--> 427\u001b[0m     fid \u001b[38;5;241m=\u001b[39m stack\u001b[38;5;241m.\u001b[39menter_context(\u001b[38;5;28mopen\u001b[39m(os_fspath(file), \u001b[38;5;124m\"\u001b[39m\u001b[38;5;124mrb\u001b[39m\u001b[38;5;124m\"\u001b[39m))\n\u001b[1;32m    428\u001b[0m     own_fid \u001b[38;5;241m=\u001b[39m \u001b[38;5;28;01mTrue\u001b[39;00m\n\u001b[1;32m    430\u001b[0m \u001b[38;5;66;03m# Code to distinguish from NumPy binary files and pickles.\u001b[39;00m\n",
      "\u001b[0;31mFileNotFoundError\u001b[0m: [Errno 2] No such file or directory: '../data/wb_cleaned.npy'"
     ]
    }
   ],
   "source": [
    "wb_data = np.load(\"../data/wb_cleaned.npy\")\n",
    "wb_indicators = np.load(\"../data/wb_indicators.npy\")\n",
    "wb_countries = np.load(\"../data/wb_countries.npy\")\n",
    "wb_countries = wb_countries.tolist()"
   ]
  },
  {
   "cell_type": "code",
   "execution_count": null,
   "metadata": {},
   "outputs": [],
   "source": [
    "combined_data = []\n",
    "excl_countries = ['TWN', 'GBRTENW', 'GBR_NIR', 'GBR_SCO']\n",
    "for row in data:\n",
    "    country = row[2]\n",
    "    country_code = countries[int(country)]\n",
    "    if(country_code in excl_countries):\n",
    "        continue\n",
    "    country_index = wb_countries.index(country_code)\n",
    "    year_index = row[0] - 1961\n",
    "    if(year_index < 0 or year_index > 60):\n",
    "        continue\n",
    "    features = wb_data[country_index, :, int(year_index)]\n",
    "    combined_row = np.concatenate((row, features))\n",
    "    combined_data.append(combined_row)\n",
    "\n",
    "combined_data = np.array(combined_data)\n",
    "    "
   ]
  },
  {
   "cell_type": "code",
   "execution_count": 1,
   "metadata": {},
   "outputs": [
    {
     "ename": "NameError",
     "evalue": "name 'combined_data' is not defined",
     "output_type": "error",
     "traceback": [
      "\u001b[0;31m---------------------------------------------------------------------------\u001b[0m",
      "\u001b[0;31mNameError\u001b[0m                                 Traceback (most recent call last)",
      "Cell \u001b[0;32mIn[1], line 1\u001b[0m\n\u001b[0;32m----> 1\u001b[0m combined_data\u001b[38;5;241m.\u001b[39mshape\n",
      "\u001b[0;31mNameError\u001b[0m: name 'combined_data' is not defined"
     ]
    }
   ],
   "source": [
    "combined_data.shape"
   ]
  },
  {
   "cell_type": "code",
   "execution_count": 7,
   "metadata": {},
   "outputs": [],
   "source": [
    "for i in range(combined_data.shape[1]):\n",
    "    if i < 5:\n",
    "        continue\n",
    "    combined_data[:, i] = combined_data[:, i] / np.max(combined_data[:, i])"
   ]
  },
  {
   "cell_type": "code",
   "execution_count": 8,
   "metadata": {},
   "outputs": [],
   "source": [
    "# set up training and test data using boolean vectors created with logical AND statement\n",
    "training_index = np.logical_and(combined_data[:, 0] >= 1961, combined_data[:, 0] <= 1990)\n",
    "training_data = combined_data[training_index, :]\n",
    "test_index = np.logical_and(combined_data[:, 0] > 1990, combined_data[:, 0] <= 2000)\n",
    "test_data = combined_data[test_index, :]"
   ]
  },
  {
   "cell_type": "code",
   "execution_count": 9,
   "metadata": {},
   "outputs": [],
   "source": [
    "training_data = tf.convert_to_tensor(training_data)\n",
    "test_data = tf.convert_to_tensor(test_data)\n",
    "# cast tensor to type float32\n",
    "training_data = tf.cast(training_data, tf.float32)\n",
    "test_data = tf.cast(test_data, tf.float32)\n",
    "num_train = training_data.shape[0]\n",
    "num_test = test_data.shape[0]"
   ]
  },
  {
   "cell_type": "code",
   "execution_count": 10,
   "metadata": {},
   "outputs": [
    {
     "data": {
      "text/plain": [
       "TensorShape([68000, 62])"
      ]
     },
     "execution_count": 10,
     "metadata": {},
     "output_type": "execute_result"
    }
   ],
   "source": [
    "test_data.shape\n",
    "\n"
   ]
  },
  {
   "cell_type": "code",
   "execution_count": 11,
   "metadata": {},
   "outputs": [],
   "source": [
    "# define function to fetch and process data entries from training or test data \n",
    "def get_data(index, mode):\n",
    "    if mode == \"train\":\n",
    "        # randomly selects index from training data between 0 and num_train\n",
    "        rand_index = tf.random.uniform([],minval=0, maxval=num_train, dtype=tf.int32) \n",
    "        entry = training_data[rand_index, :]\n",
    "    elif mode == \"not_random\":\n",
    "        # selects specified index from test data \n",
    "        entry = test_data[index, :]\n",
    "    else: \n",
    "        # for any other value of mode, randomly selects index from test\n",
    "        rand_index = tf.random.uniform([],minval=0, maxval=num_test, dtype=tf.int32)\n",
    "        entry = test_data[rand_index, :]\n",
    "    year, age, country, gender, rate = entry[0], entry[1], entry[2], entry[3], entry[4]\n",
    "    wb = entry[5:]\n",
    "    year = (year - 1961)/50\n",
    "    age = tf.cast(age, tf.int32)\n",
    "    country = tf.cast(country, tf.int32)\n",
    "    gender = tf.cast(gender, tf.int32)\n",
    "    year = tf.reshape(year, [1])\n",
    "    age = tf.reshape(age, [1])\n",
    "    country = tf.reshape(country, [1])\n",
    "    gender = tf.reshape(gender, [1])\n",
    "    rate = tf.reshape(rate, [1])\n",
    "    wb = tf.reshape(wb,[57])\n",
    "    return (year, age, country, gender, wb), rate"
   ]
  },
  {
   "cell_type": "code",
   "execution_count": 12,
   "metadata": {},
   "outputs": [],
   "source": [
    "def get_figure_data(year, country, gender):\n",
    "    #index = np.logical_and(combined_data[:,0] == year, combined_data[:,1] == age, combined_data[:, 2] == country, combined_data[:, 3] == gender)\n",
    "    \n",
    "        indices = (combined_data[:, 0] == year) & \\\n",
    "                (combined_data[:, 2] == country) & \\\n",
    "                (combined_data[:, 3] == gender)\n",
    "\n",
    "        entries = combined_data[indices, :]\n",
    "        \n",
    "        entries_data = []\n",
    "        entries_rate = []\n",
    "        for entry in entries:\n",
    "                year, age, country, gender, rate = entry[0], entry[1], entry[2], entry[3], entry[4]\n",
    "                wb = entry[5:]\n",
    "                year = (year - 1961)/50\n",
    "                age = tf.cast(age, tf.int32)\n",
    "                country = tf.cast(country, tf.int32)\n",
    "                gender = tf.cast(gender, tf.int32)\n",
    "                year = tf.reshape(year, [1])\n",
    "                age = tf.reshape(age, [1])\n",
    "                country = tf.reshape(country, [1])\n",
    "                gender = tf.reshape(gender, [1])\n",
    "                rate = tf.reshape(rate, [1])\n",
    "                wb = tf.reshape(wb,[1, 57])\n",
    "                entries_data.append([year, age, country, gender, wb])\n",
    "                entries_rate.append(rate)\n",
    "\n",
    "        return entries_data, entries_rate"
   ]
  },
  {
   "cell_type": "code",
   "execution_count": 13,
   "metadata": {},
   "outputs": [],
   "source": [
    "# use get_data function to set up training and test tensorflow datasets \n",
    "dataset_train = tf.data.Dataset.from_tensor_slices(np.arange(10000))\n",
    "dataset_train = dataset_train.repeat()\n",
    "dataset_train = dataset_train.map(lambda x: get_data(x, mode=\"train\"), num_parallel_calls=4)\n",
    "dataset_train = dataset_train.batch(256)\n",
    "dataset_train = dataset_train.prefetch(buffer_size=512)\n",
    "\n",
    "dataset_test = tf.data.Dataset.from_tensor_slices(np.arange(10000))\n",
    "dataset_test = dataset_test.repeat()\n",
    "dataset_test = dataset_test.map(lambda x: get_data(x, mode=\"test\"), num_parallel_calls=4)\n",
    "dataset_test = dataset_test.batch(256)\n",
    "dataset_test = dataset_test.prefetch(buffer_size=512)\n",
    "\n",
    "dataset_test2 = tf.data.Dataset.from_tensor_slices(np.arange(68000))\n",
    "dataset_test2 = dataset_test2.map(lambda x: get_data(x, mode=\"not_random\"), num_parallel_calls=4)\n",
    "dataset_test2 = dataset_test2.batch(256)\n",
    "dataset_test2 = dataset_test2.prefetch(buffer_size=512)"
   ]
  },
  {
   "cell_type": "code",
   "execution_count": 14,
   "metadata": {},
   "outputs": [],
   "source": [
    "# defining inputs \n",
    "year = tfkl.Input(shape=(1,), dtype='float32', name='Year')\n",
    "age =  tfkl.Input(shape=(1,), dtype='int32', name='Age')\n",
    "country = tfkl.Input(shape=(1,), dtype='int32', name='Country')\n",
    "gender = tfkl.Input(shape=(1,), dtype='int32', name='Gender')\n",
    "wb = tfkl.Input(shape=(57,), dtype='float32', name='World Bank Features')\n",
    "\n",
    "# defining embedding layers \n",
    "age_embed = tfkl.Embedding(input_dim=100, output_dim=5, input_length=1, name='Age_embed')(age)\n",
    "age_embed = tfkl.Flatten()(age_embed)\n",
    "\n",
    "gender_embed = tfkl.Embedding(input_dim=2, output_dim=5, input_length=1, name='Gender_embed')(gender)\n",
    "gender_embed = tfkl.Flatten()(gender_embed)\n",
    "\n",
    "country_embed = tfkl.Embedding(input_dim=38, output_dim=5, input_length=1, name='Country_embed')(country)\n",
    "country_embed = tfkl.Flatten()(country_embed)\n",
    "\n",
    "# create feature vector that concatenates all inputs \n",
    "x = tfkl.Concatenate()([year, age_embed, gender_embed, country_embed, wb])\n",
    "x1 = x\n",
    "\n",
    "# setting up middle layers \n",
    "x = tfkl.Dense(128, activation='tanh')(x)\n",
    "x = tfkl.BatchNormalization()(x)\n",
    "x = tfkl.Dropout(0.05)(x)\n",
    "\n",
    "x = tfkl.Dense(128, activation='tanh')(x)\n",
    "x = tfkl.BatchNormalization()(x)\n",
    "x = tfkl.Dropout(0.05)(x)\n",
    "\n",
    "x = tfkl.Dense(128, activation='tanh')(x)\n",
    "x = tfkl.BatchNormalization()(x)\n",
    "x = tfkl.Dropout(0.05)(x)\n",
    "\n",
    "x = tfkl.Dense(128, activation='tanh')(x)\n",
    "x = tfkl.BatchNormalization()(x)\n",
    "x = tfkl.Dropout(0.05)(x)\n",
    "\n",
    "# setting up output layer \n",
    "x = tfkl.Concatenate()([x1, x])\n",
    "x = tfkl.Dense(128, activation='tanh')(x)\n",
    "x = tfkl.BatchNormalization()(x)\n",
    "x = tfkl.Dropout(0.05)(x)\n",
    "x = tfkl.Dense(1, activation='sigmoid', name='final')(x)\n",
    "\n",
    "# creating the model \n",
    "model = tf.keras.Model(inputs=[year, age, country, gender, wb], outputs=[x])"
   ]
  },
  {
   "cell_type": "code",
   "execution_count": 15,
   "metadata": {},
   "outputs": [],
   "source": [
    "# compiling the model\n",
    "model.compile(loss='mse', optimizer='adam')"
   ]
  },
  {
   "cell_type": "code",
   "execution_count": 16,
   "metadata": {},
   "outputs": [
    {
     "name": "stdout",
     "output_type": "stream",
     "text": [
      "Epoch 1/9\n",
      "1000/1000 - 16s - loss: 0.0148 - val_loss: 0.0013 - 16s/epoch - 16ms/step\n",
      "Epoch 2/9\n",
      "1000/1000 - 15s - loss: 0.0017 - val_loss: 9.6633e-04 - 15s/epoch - 15ms/step\n",
      "Epoch 3/9\n",
      "1000/1000 - 13s - loss: 0.0012 - val_loss: 5.8007e-04 - 13s/epoch - 13ms/step\n",
      "Epoch 4/9\n",
      "1000/1000 - 13s - loss: 0.0010 - val_loss: 5.6497e-04 - 13s/epoch - 13ms/step\n",
      "Epoch 5/9\n",
      "1000/1000 - 12s - loss: 9.3550e-04 - val_loss: 5.4418e-04 - 12s/epoch - 12ms/step\n",
      "Epoch 6/9\n",
      "1000/1000 - 13s - loss: 8.4938e-04 - val_loss: 6.0245e-04 - 13s/epoch - 13ms/step\n",
      "Epoch 7/9\n",
      "1000/1000 - 14s - loss: 8.2414e-04 - val_loss: 5.8150e-04 - 14s/epoch - 14ms/step\n",
      "Epoch 8/9\n",
      "1000/1000 - 16s - loss: 8.0465e-04 - val_loss: 5.0687e-04 - 16s/epoch - 16ms/step\n",
      "Epoch 9/9\n",
      "1000/1000 - 14s - loss: 8.1203e-04 - val_loss: 5.1954e-04 - 14s/epoch - 14ms/step\n"
     ]
    },
    {
     "data": {
      "text/plain": [
       "<keras.src.callbacks.History at 0x2a169b650>"
      ]
     },
     "execution_count": 16,
     "metadata": {},
     "output_type": "execute_result"
    }
   ],
   "source": [
    "model.fit(dataset_train, steps_per_epoch=1000, validation_data=dataset_test, validation_steps=500, epochs=9, verbose=2)"
   ]
  },
  {
   "cell_type": "code",
   "execution_count": 17,
   "metadata": {},
   "outputs": [],
   "source": [
    "use_samples = [] # 6 values representing the row indexes for 6 plots we want to create? \n",
    "predictions = []\n",
    "j = 0\n",
    "for sample in use_samples:\n",
    "    samples_to_predict.append(dataset_test2[sample])\n",
    "\n",
    "predictions = np.array(predictions)"
   ]
  },
  {
   "cell_type": "code",
   "execution_count": 18,
   "metadata": {},
   "outputs": [
    {
     "name": "stdout",
     "output_type": "stream",
     "text": [
      "1\n",
      "2\n",
      "3\n",
      "4\n",
      "5\n",
      "6\n",
      "7\n",
      "8\n",
      "9\n",
      "10\n",
      "11\n",
      "12\n",
      "13\n",
      "14\n",
      "15\n",
      "16\n",
      "17\n",
      "18\n",
      "19\n",
      "20\n",
      "21\n",
      "22\n",
      "23\n",
      "24\n",
      "25\n",
      "26\n",
      "27\n",
      "28\n",
      "29\n",
      "30\n",
      "31\n",
      "32\n",
      "33\n",
      "34\n",
      "35\n",
      "36\n",
      "37\n",
      "38\n",
      "39\n",
      "40\n",
      "41\n",
      "42\n",
      "43\n",
      "44\n",
      "45\n",
      "46\n",
      "47\n",
      "48\n",
      "49\n",
      "50\n",
      "51\n",
      "52\n",
      "53\n",
      "54\n",
      "55\n",
      "56\n",
      "57\n",
      "58\n",
      "59\n",
      "60\n",
      "61\n",
      "62\n",
      "63\n",
      "64\n",
      "65\n",
      "66\n",
      "67\n",
      "68\n",
      "69\n",
      "70\n",
      "71\n",
      "72\n",
      "73\n",
      "74\n",
      "75\n",
      "76\n",
      "77\n",
      "78\n",
      "79\n",
      "80\n",
      "81\n",
      "82\n",
      "83\n",
      "84\n",
      "85\n",
      "86\n",
      "87\n",
      "88\n",
      "89\n",
      "90\n",
      "91\n",
      "92\n",
      "93\n",
      "94\n",
      "95\n",
      "96\n",
      "97\n",
      "98\n",
      "99\n",
      "100\n",
      "101\n"
     ]
    }
   ],
   "source": [
    "i = 0\n",
    "for input, output in dataset_test2:\n",
    "    i += 1\n",
    "    print(i)\n",
    "    if i > 100:\n",
    "        break"
   ]
  },
  {
   "cell_type": "code",
   "execution_count": 19,
   "metadata": {},
   "outputs": [
    {
     "name": "stdout",
     "output_type": "stream",
     "text": [
      "country: AUS index: 0\n",
      "country: AUT index: 1\n",
      "country: BEL index: 2\n",
      "country: BGR index: 3\n",
      "country: BLR index: 4\n",
      "country: CAN index: 5\n",
      "country: CHE index: 6\n",
      "country: CZE index: 7\n",
      "country: DNK index: 8\n",
      "country: ESP index: 9\n",
      "country: EST index: 10\n",
      "country: FIN index: 11\n",
      "country: FRA index: 12\n",
      "country: GBRTENW index: 13\n",
      "country: GBR_NIR index: 14\n",
      "country: GBR_SCO index: 15\n",
      "country: GRC index: 16\n",
      "country: HUN index: 17\n",
      "country: IRL index: 18\n",
      "country: ISL index: 19\n",
      "country: ISR index: 20\n",
      "country: ITA index: 21\n",
      "country: JPN index: 22\n",
      "country: LTU index: 23\n",
      "country: LUX index: 24\n",
      "country: LVA index: 25\n",
      "country: NLD index: 26\n",
      "country: NOR index: 27\n",
      "country: NZL index: 28\n",
      "country: POL index: 29\n",
      "country: PRT index: 30\n",
      "country: RUS index: 31\n",
      "country: SVK index: 32\n",
      "country: SVN index: 33\n",
      "country: SWE index: 34\n",
      "country: TWN index: 35\n",
      "country: UKR index: 36\n",
      "country: USA index: 37\n"
     ]
    }
   ],
   "source": [
    "for i, country in enumerate(countries):\n",
    "    print(f'country: {country} index: {i}')"
   ]
  },
  {
   "cell_type": "code",
   "execution_count": null,
   "metadata": {},
   "outputs": [],
   "source": [
    "fig_data, fig_rate = get_figure_data(2017, 32, 0)\n",
    "fig_rate = np.array(fig_rate)\n",
    "fig_predictions = []\n",
    "for age_row in fig_data:\n",
    "    inputs = age_row[0], age_row[1], age_row[2], age_row[3], age_row[4]\n",
    "    predictions = model(inputs)\n",
    "    fig_predictions.append(predictions)\n",
    "fig_predictions = np.array(fig_predictions)"
   ]
  },
  {
   "cell_type": "code",
   "execution_count": 39,
   "metadata": {},
   "outputs": [
    {
     "data": {
      "image/png": "[encoded data removed]",
      "text/plain": [
       "<Figure size 640x480 with 1 Axes>"
      ]
     },
     "metadata": {},
     "output_type": "display_data"
    }
   ],
   "source": [
    "plt.figure()\n",
    "plt.plot(fig_predictions[:, 0], label=\"prediction\")\n",
    "plt.plot(fig_rate[:, 0], label=\"truth\")\n",
    "plt.legend()\n",
    "plt.xlabel(\"Age\")\n",
    "plt.ylabel(\"Mortality Rate\")\n",
    "# plt.title()\n",
    "plt.show()"
   ]
  },
  {
   "cell_type": "code",
   "execution_count": null,
   "metadata": {},
   "outputs": [],
   "source": [
    "# residual plot\n",
    "residuals = np.subtract(fig_predictions, fig_rate)\n",
    "\n",
    "# Plotting the residuals\n",
    "plt.scatter(fig_rate, residuals)\n",
    "plt.axhline(y=0, color='r', linestyle='--')\n",
    "plt.xlabel('Actual Values')\n",
    "plt.ylabel('Residuals')\n",
    "plt.title('Residual Plot')\n",
    "plt.show()"
   ]
  }
 ],
 "metadata": {
  "kernelspec": {
   "display_name": "deep",
   "language": "python",
   "name": "python3"
  },
  "language_info": {
   "codemirror_mode": {
    "name": "ipython",
    "version": 3
   },
   "file_extension": ".py",
   "mimetype": "text/x-python",
   "name": "python",
   "nbconvert_exporter": "python",
   "pygments_lexer": "ipython3",
   "version": "3.11.5"
  }
 },
 "nbformat": 4,
 "nbformat_minor": 2
}
