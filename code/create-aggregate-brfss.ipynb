{
 "cells": [
  {
   "cell_type": "code",
   "execution_count": 1,
   "metadata": {},
   "outputs": [],
   "source": [
    "import os\n",
    "import pandas as pd\n",
    "import numpy as np"
   ]
  },
  {
   "cell_type": "code",
   "execution_count": 2,
   "metadata": {},
   "outputs": [
    {
     "name": "stdout",
     "output_type": "stream",
     "text": [
      "DF for 1993 added\n",
      "DF for 1994 added\n",
      "DF for 1995 added\n",
      "DF for 1996 added\n",
      "DF for 1997 added\n",
      "DF for 1998 added\n",
      "DF for 1999 added\n",
      "DF for 2000 added\n",
      "DF for 2001 added\n",
      "DF for 2002 added\n",
      "DF for 2003 added\n",
      "DF for 2004 added\n",
      "DF for 2005 added\n",
      "DF for 2006 added\n",
      "DF for 2007 added\n",
      "DF for 2008 added\n",
      "DF for 2009 added\n",
      "DF for 2010 added\n",
      "DF for 2011 added\n",
      "DF for 2012 added\n",
      "DF for 2013 added\n",
      "DF for 2014 added\n",
      "DF for 2015 added\n",
      "DF for 2016 added\n",
      "DF for 2017 added\n",
      "DF for 2018 added\n",
      "DF for 2019 added\n",
      "DF for 2020 added\n",
      "DF for 2021 added\n"
     ]
    }
   ],
   "source": [
    "# aggregate data for each year by age, gender, and state\n",
    "df_list = []\n",
    "\n",
    "for year in range(1993, 2022):\n",
    "    filepath = f\"../data/brfss/clean/brfss{year}clean.csv\"\n",
    "    df_year = pd.read_csv(filepath, encoding='cp1252')\n",
    "    # df_year = np.genfromtxt(filepath, encoding='cp1252', delimiter=',')\n",
    "    df_year[\"year\"] = year\n",
    "    df_list.append(df_year)\n",
    "    print(f\"DF for {year} added\")"
   ]
  },
  {
   "cell_type": "code",
   "execution_count": 3,
   "metadata": {},
   "outputs": [],
   "source": [
    "df_combined = pd.concat(df_list, ignore_index=True)"
   ]
  },
  {
   "cell_type": "code",
   "execution_count": 6,
   "metadata": {},
   "outputs": [
    {
     "name": "stdout",
     "output_type": "stream",
     "text": [
      "(9558124, 12)\n",
      "   Unnamed: 0   income      race  state    age     sex  height     weight  \\\n",
      "0           0     <10k     white      1  55-59  female  1.7018  64.863656   \n",
      "1           1  35k-50k  hispanic      1  50-54  female  1.6510  52.163080   \n",
      "2           2     <10k     black      1  50-54  female  1.6510  58.966960   \n",
      "3           3     <10k     white      1    80+  female  1.6002  52.163080   \n",
      "4           4  10k-15k     white      1  25-29  female  1.7272  89.811216   \n",
      "\n",
      "         bmi smoke100  year  smokes  \n",
      "0  22.396718      yes  1993       1  \n",
      "1  19.136790       no  1993       0  \n",
      "2  21.632892       no  1993       0  \n",
      "3  20.371110       no  1993       0  \n",
      "4  30.105463      yes  1993       1  \n"
     ]
    }
   ],
   "source": [
    "print(df_combined.shape)\n",
    "print(df_combined.head())"
   ]
  },
  {
   "cell_type": "code",
   "execution_count": 5,
   "metadata": {},
   "outputs": [],
   "source": [
    "df_combined['smokes'] = (df_combined['smoke100'] == 'yes').astype(int)"
   ]
  },
  {
   "cell_type": "code",
   "execution_count": 7,
   "metadata": {},
   "outputs": [
    {
     "name": "stdout",
     "output_type": "stream",
     "text": [
      "       state    age     sex  year        bmi    smokes\n",
      "0          1  18-24  female  1993  21.704250  0.183824\n",
      "1          1  18-24  female  1994  23.100608  0.256944\n",
      "2          1  18-24  female  1995  23.313510  0.258065\n",
      "3          1  18-24  female  1996  24.502406  0.286885\n",
      "4          1  18-24  female  1997  23.347746  0.196721\n",
      "...      ...    ...     ...   ...        ...       ...\n",
      "40306     78    80+    male  2008  24.668959  0.391304\n",
      "40307     78    80+    male  2009  24.713394  0.500000\n",
      "40308     78    80+    male  2010  25.875765  0.320000\n",
      "40309     78    80+    male  2016  24.750617  0.380952\n",
      "40310     78    80+    male  2021  24.679524  0.360000\n",
      "\n",
      "[40311 rows x 6 columns]\n",
      "(39924, 6)\n",
      "[ 1  2  4  5  6  8  9 10 11 12 13 15 16 17 18 19 20 21 22 23 24 25 26 27\n",
      " 28 29 30 31 32 33 34 35 36 37 38 39 40 41 42 44 45 46 47 48 49 50 51 53\n",
      " 54 55 56 66 72 78]\n",
      "(37739, 6)\n",
      "[ 1  2  4  5  6  8  9 10 12 13 15 16 17 18 19 20 21 22 23 24 25 26 27 28\n",
      " 29 30 31 32 33 34 35 36 37 38 39 40 41 42 44 45 46 47 48 49 50 51 53 54\n",
      " 55 56]\n"
     ]
    }
   ],
   "source": [
    "agg_data = df_combined.groupby(['state','age','sex','year']).agg({\n",
    "    'bmi': 'mean', 'smokes': 'mean'}).reset_index()\n",
    "\n",
    "print(agg_data)\n",
    "\n",
    "# drop missing sex\n",
    "index_missing = agg_data[ (agg_data['sex'] == '9')].index\n",
    "agg_data.drop(index_missing, inplace=True)\n",
    "\n",
    "print(agg_data.shape)\n",
    "\n",
    "# drop states not in USMDB\n",
    "print(agg_data[\"state\"].unique())\n",
    "index_states = agg_data[ (agg_data['state'] == 11) | (agg_data['state'] == 66)\n",
    "                  | (agg_data['state'] == 72) | (agg_data['state'] == 78)].index\n",
    "agg_data.drop(index_states, inplace=True)\n",
    "\n",
    "print(agg_data.shape)\n",
    "print(agg_data[\"state\"].unique())"
   ]
  },
  {
   "cell_type": "code",
   "execution_count": 8,
   "metadata": {},
   "outputs": [],
   "source": [
    "agg_data.to_csv('../data/brfss/brfss_agg.csv')"
   ]
  }
 ],
 "metadata": {
  "kernelspec": {
   "display_name": "deep",
   "language": "python",
   "name": "python3"
  },
  "language_info": {
   "codemirror_mode": {
    "name": "ipython",
    "version": 3
   },
   "file_extension": ".py",
   "mimetype": "text/x-python",
   "name": "python",
   "nbconvert_exporter": "python",
   "pygments_lexer": "ipython3",
   "version": "3.1.undefined"
  }
 },
 "nbformat": 4,
 "nbformat_minor": 2
}
